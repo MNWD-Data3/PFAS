{
 "cells": [
  {
   "cell_type": "markdown",
   "metadata": {},
   "source": [
    "This is an example of merging precipitation data with the PFAS file. The precipitation data is for Orange County, 2010-2019 and was accessed from the NOAA Climate Data Online Search (https://www.ncdc.noaa.gov/cdo-web/search?datasetid=GHCND)"
   ]
  },
  {
   "cell_type": "code",
   "execution_count": 3,
   "metadata": {},
   "outputs": [],
   "source": [
    "import pandas as pd\n",
    "from datetime import datetime\n",
    "import matplotlib.pyplot as plt\n",
    "\n",
    "prec=pd.read_csv(\"precip_2010_2019.csv\")[['STATION','LATITUDE','LONGITUDE','ELEVATION','DATE','PRCP','TAVG','TMAX','TMIN']]\n",
    "dat=pd.read_excel(\"SAR-Imperial_537Data_AsOf08-08-2019.xlsx\",sheet_name='All')"
   ]
  },
  {
   "cell_type": "code",
   "execution_count": 2,
   "metadata": {
    "scrolled": true
   },
   "outputs": [],
   "source": [
    "#Merge the data by the date?\n",
    "prec['DATE']=pd.to_datetime(prec['DATE'])\n",
    "dat_merged=pd.merge(prec,dat,left_on='DATE',right_on='Sample Date')"
   ]
  },
  {
   "cell_type": "code",
   "execution_count": 3,
   "metadata": {},
   "outputs": [
    {
     "data": {
      "text/html": [
       "<div>\n",
       "<style scoped>\n",
       "    .dataframe tbody tr th:only-of-type {\n",
       "        vertical-align: middle;\n",
       "    }\n",
       "\n",
       "    .dataframe tbody tr th {\n",
       "        vertical-align: top;\n",
       "    }\n",
       "\n",
       "    .dataframe thead th {\n",
       "        text-align: right;\n",
       "    }\n",
       "</style>\n",
       "<table border=\"1\" class=\"dataframe\">\n",
       "  <thead>\n",
       "    <tr style=\"text-align: right;\">\n",
       "      <th></th>\n",
       "      <th>STATION</th>\n",
       "      <th>LATITUDE</th>\n",
       "      <th>LONGITUDE</th>\n",
       "      <th>ELEVATION</th>\n",
       "      <th>DATE</th>\n",
       "      <th>PRCP</th>\n",
       "      <th>TAVG</th>\n",
       "      <th>TMAX</th>\n",
       "      <th>TMIN</th>\n",
       "      <th>Station Name</th>\n",
       "      <th>...</th>\n",
       "      <th>Parameter Abbreviation</th>\n",
       "      <th>Sample Date</th>\n",
       "      <th>Sample Time</th>\n",
       "      <th>Result Value (10% of RDL for NDs)</th>\n",
       "      <th>Result Text</th>\n",
       "      <th>Units</th>\n",
       "      <th>RDL</th>\n",
       "      <th>Detected (Y: Yes; N: No)</th>\n",
       "      <th>Laboratory Sample Number</th>\n",
       "      <th>Method</th>\n",
       "    </tr>\n",
       "  </thead>\n",
       "  <tbody>\n",
       "    <tr>\n",
       "      <th>0</th>\n",
       "      <td>US1CAOR0047</td>\n",
       "      <td>33.5692</td>\n",
       "      <td>-117.6362</td>\n",
       "      <td>164.0</td>\n",
       "      <td>2016-06-14</td>\n",
       "      <td>0.0</td>\n",
       "      <td>NaN</td>\n",
       "      <td>NaN</td>\n",
       "      <td>NaN</td>\n",
       "      <td>SAR-IMPERIAL-01</td>\n",
       "      <td>...</td>\n",
       "      <td>PFBS</td>\n",
       "      <td>2016-06-14</td>\n",
       "      <td>12:10:00</td>\n",
       "      <td>9.0</td>\n",
       "      <td>ND</td>\n",
       "      <td>ng/L</td>\n",
       "      <td>90</td>\n",
       "      <td>N</td>\n",
       "      <td>16060368-19</td>\n",
       "      <td>537</td>\n",
       "    </tr>\n",
       "    <tr>\n",
       "      <th>1</th>\n",
       "      <td>US1CAOR0047</td>\n",
       "      <td>33.5692</td>\n",
       "      <td>-117.6362</td>\n",
       "      <td>164.0</td>\n",
       "      <td>2016-06-14</td>\n",
       "      <td>0.0</td>\n",
       "      <td>NaN</td>\n",
       "      <td>NaN</td>\n",
       "      <td>NaN</td>\n",
       "      <td>SAR-IMPERIAL-01</td>\n",
       "      <td>...</td>\n",
       "      <td>PFHpA</td>\n",
       "      <td>2016-06-14</td>\n",
       "      <td>12:10:00</td>\n",
       "      <td>1.0</td>\n",
       "      <td>ND</td>\n",
       "      <td>ng/L</td>\n",
       "      <td>10</td>\n",
       "      <td>N</td>\n",
       "      <td>16060368-19</td>\n",
       "      <td>537</td>\n",
       "    </tr>\n",
       "    <tr>\n",
       "      <th>2</th>\n",
       "      <td>US1CAOR0047</td>\n",
       "      <td>33.5692</td>\n",
       "      <td>-117.6362</td>\n",
       "      <td>164.0</td>\n",
       "      <td>2016-06-14</td>\n",
       "      <td>0.0</td>\n",
       "      <td>NaN</td>\n",
       "      <td>NaN</td>\n",
       "      <td>NaN</td>\n",
       "      <td>SAR-IMPERIAL-01</td>\n",
       "      <td>...</td>\n",
       "      <td>PFHxS</td>\n",
       "      <td>2016-06-14</td>\n",
       "      <td>12:10:00</td>\n",
       "      <td>3.0</td>\n",
       "      <td>ND</td>\n",
       "      <td>ng/L</td>\n",
       "      <td>30</td>\n",
       "      <td>N</td>\n",
       "      <td>16060368-19</td>\n",
       "      <td>537</td>\n",
       "    </tr>\n",
       "    <tr>\n",
       "      <th>3</th>\n",
       "      <td>US1CAOR0047</td>\n",
       "      <td>33.5692</td>\n",
       "      <td>-117.6362</td>\n",
       "      <td>164.0</td>\n",
       "      <td>2016-06-14</td>\n",
       "      <td>0.0</td>\n",
       "      <td>NaN</td>\n",
       "      <td>NaN</td>\n",
       "      <td>NaN</td>\n",
       "      <td>SAR-IMPERIAL-01</td>\n",
       "      <td>...</td>\n",
       "      <td>PFNA</td>\n",
       "      <td>2016-06-14</td>\n",
       "      <td>12:10:00</td>\n",
       "      <td>2.0</td>\n",
       "      <td>ND</td>\n",
       "      <td>ng/L</td>\n",
       "      <td>20</td>\n",
       "      <td>N</td>\n",
       "      <td>16060368-19</td>\n",
       "      <td>537</td>\n",
       "    </tr>\n",
       "    <tr>\n",
       "      <th>4</th>\n",
       "      <td>US1CAOR0047</td>\n",
       "      <td>33.5692</td>\n",
       "      <td>-117.6362</td>\n",
       "      <td>164.0</td>\n",
       "      <td>2016-06-14</td>\n",
       "      <td>0.0</td>\n",
       "      <td>NaN</td>\n",
       "      <td>NaN</td>\n",
       "      <td>NaN</td>\n",
       "      <td>SAR-IMPERIAL-01</td>\n",
       "      <td>...</td>\n",
       "      <td>PFOS</td>\n",
       "      <td>2016-06-14</td>\n",
       "      <td>12:10:00</td>\n",
       "      <td>4.0</td>\n",
       "      <td>ND</td>\n",
       "      <td>ng/L</td>\n",
       "      <td>40</td>\n",
       "      <td>N</td>\n",
       "      <td>16060368-19</td>\n",
       "      <td>537</td>\n",
       "    </tr>\n",
       "  </tbody>\n",
       "</table>\n",
       "<p>5 rows × 21 columns</p>\n",
       "</div>"
      ],
      "text/plain": [
       "       STATION  LATITUDE  LONGITUDE  ELEVATION       DATE  PRCP  TAVG  TMAX  \\\n",
       "0  US1CAOR0047   33.5692  -117.6362      164.0 2016-06-14   0.0   NaN   NaN   \n",
       "1  US1CAOR0047   33.5692  -117.6362      164.0 2016-06-14   0.0   NaN   NaN   \n",
       "2  US1CAOR0047   33.5692  -117.6362      164.0 2016-06-14   0.0   NaN   NaN   \n",
       "3  US1CAOR0047   33.5692  -117.6362      164.0 2016-06-14   0.0   NaN   NaN   \n",
       "4  US1CAOR0047   33.5692  -117.6362      164.0 2016-06-14   0.0   NaN   NaN   \n",
       "\n",
       "   TMIN     Station Name  ... Parameter Abbreviation Sample Date Sample Time  \\\n",
       "0   NaN  SAR-IMPERIAL-01  ...                   PFBS  2016-06-14    12:10:00   \n",
       "1   NaN  SAR-IMPERIAL-01  ...                  PFHpA  2016-06-14    12:10:00   \n",
       "2   NaN  SAR-IMPERIAL-01  ...                  PFHxS  2016-06-14    12:10:00   \n",
       "3   NaN  SAR-IMPERIAL-01  ...                   PFNA  2016-06-14    12:10:00   \n",
       "4   NaN  SAR-IMPERIAL-01  ...                   PFOS  2016-06-14    12:10:00   \n",
       "\n",
       "  Result Value (10% of RDL for NDs)  Result Text Units RDL  \\\n",
       "0                               9.0           ND  ng/L  90   \n",
       "1                               1.0           ND  ng/L  10   \n",
       "2                               3.0           ND  ng/L  30   \n",
       "3                               2.0           ND  ng/L  20   \n",
       "4                               4.0           ND  ng/L  40   \n",
       "\n",
       "   Detected (Y: Yes; N: No) Laboratory Sample Number Method  \n",
       "0                         N              16060368-19    537  \n",
       "1                         N              16060368-19    537  \n",
       "2                         N              16060368-19    537  \n",
       "3                         N              16060368-19    537  \n",
       "4                         N              16060368-19    537  \n",
       "\n",
       "[5 rows x 21 columns]"
      ]
     },
     "execution_count": 3,
     "metadata": {},
     "output_type": "execute_result"
    }
   ],
   "source": [
    "dat_merged.head()"
   ]
  },
  {
   "cell_type": "code",
   "execution_count": 12,
   "metadata": {},
   "outputs": [
    {
     "data": {
      "text/plain": [
       "[<matplotlib.lines.Line2D at 0x11d35b400>]"
      ]
     },
     "execution_count": 12,
     "metadata": {},
     "output_type": "execute_result"
    },
    {
     "data": {
      "image/png": "[encoded data removed]",
      "text/plain": [
       "<Figure size 432x288 with 1 Axes>"
      ]
     },
     "metadata": {
      "needs_background": "light"
     },
     "output_type": "display_data"
    }
   ],
   "source": [
    "dat_sort=dat_merged.sort_values(by=['DATE'])\n",
    "plt.plot(dat_sort['DATE'],dat_sort['PRCP'])"
   ]
  },
  {
   "cell_type": "code",
   "execution_count": 13,
   "metadata": {},
   "outputs": [],
   "source": [
    "dat_sort.to_csv('SAR-Imperial_merged_precip.csv',index=False)"
   ]
  },
  {
   "cell_type": "code",
   "execution_count": null,
   "metadata": {},
   "outputs": [],
   "source": []
  }
 ],
 "metadata": {
  "kernelspec": {
   "display_name": "Python 3",
   "language": "python",
   "name": "python3"
  },
  "language_info": {
   "codemirror_mode": {
    "name": "ipython",
    "version": 3
   },
   "file_extension": ".py",
   "mimetype": "text/x-python",
   "name": "python",
   "nbconvert_exporter": "python",
   "pygments_lexer": "ipython3",
   "version": "3.7.2"
  }
 },
 "nbformat": 4,
 "nbformat_minor": 2
}
